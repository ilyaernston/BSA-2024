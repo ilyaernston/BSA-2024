{
 "cells": [
  {
   "cell_type": "markdown",
   "metadata": {},
   "source": [
    "# Homework 2: Convolutions and Spike Trains\n",
    "## Due: Tuesday, December 17, 11:59pm"
   ]
  },
  {
   "cell_type": "markdown",
   "metadata": {},
   "source": [
    "## Part 1: Convolutions"
   ]
  },
  {
   "cell_type": "markdown",
   "metadata": {},
   "source": [
    "### Math Exercises - Convolutions\n",
    "\n",
    "The first portion of this homework assignment contains mathematics questions related to the topics covered this week (Convolutions and Filters).\n",
    "Please write your answers using the Jupyter markup cell’s LaTeX interpreter, or embed a scanned image/pdf of your answers into the markup cell.\n",
    "\n",
    "More information about LaTeX and Jupyter markdown formatting can be found here:\n",
    "\n",
    "[https://jupyterbook.org/en/stable/content/math.html](https://jupyterbook.org/en/stable/content/math.html)\n",
    "\n",
    "And Here:\n",
    "\n",
    "[https://ashki23.github.io/markdown-latex.html](https://ashki23.github.io/markdown-latex.html)"
   ]
  },
  {
   "cell_type": "markdown",
   "metadata": {},
   "source": [
    "<a id=\"question-1\"></a>\n",
    "### Convolving Two Arrays\n",
    "\n",
    "Given two arrays, $A = [3, 4, 5, 6, 2]$ and $B = [1, 2, 3]$, perform the regular convolution of these arrays. Provide a detailed step-by-step calculation and explain how the convolution changes the characteristics of the original arrays. What is the significance of convolution in signal processing, especially in the context of neural data analysis?"
   ]
  },
  {
   "cell_type": "markdown",
   "metadata": {},
   "source": [
    "** Your Answer Here **"
   ]
  },
  {
   "cell_type": "markdown",
   "metadata": {},
   "source": [
    "### Convolving Two Signals with an FFT\n",
    "\n",
    "Consider two discrete-time signals, $X[n]$ and $Y[n]$, each with a length of 1000 points. Write an expression for convolving these signals using the Fast Fourier Transform (FFT) method. Compare the computational complexity of this method with the direct convolution method. Why is FFT-based convolution particularly beneficial in the context of processing large neural datasets?"
   ]
  },
  {
   "cell_type": "markdown",
   "metadata": {},
   "source": [
    "** Your Answer Here **"
   ]
  },
  {
   "cell_type": "markdown",
   "metadata": {},
   "source": [
    "### Moving Average Filter\n",
    "\n",
    "You have a signal $S = [2, 3, 4, 5, 6, 7, 8, 9, 10]$. Calculate the moving average of this signal using a Finite Impulse Response (FIR) filter with a window size of 3. Show your calculations in detail. Discuss the effect of the moving average filter on the signal, particularly in terms of smoothing and latency. How does this apply to neural signal processing?"
   ]
  },
  {
   "cell_type": "markdown",
   "metadata": {},
   "source": [
    "** Your Answer Here **"
   ]
  },
  {
   "cell_type": "markdown",
   "metadata": {},
   "source": [
    "### Programming Exercises\n",
    "\n",
    "In the following cells, you will write python code to manipulate and analyze an EEG signal, in order to gain insights about what is contained in the signal.\n",
    "\n",
    "You are provided with 10 EEG recordings containing an ERP. These 10 recordings are in the file named \"eeg_signals.pkl\". You are also provided with a file called \"erp_timestamps.txt\", which contain the timestamps for the ERPs in the 10 signals.\n",
    "\n",
    "You are also provided with an 11th EEG recording, in which you will try to locate the ERP. No timestamp is provided for this recording. This recording is saved in the file called \"eeg_signal_to_analyze.pkl\"."
   ]
  },
  {
   "cell_type": "markdown",
   "metadata": {},
   "source": [
    "### Utilize the Convolution Operator From Standard Libraries\n",
    "Show using Python's `numpy.convolve`\n",
    "that convolution is a commutative operator."
   ]
  },
  {
   "cell_type": "code",
   "execution_count": null,
   "metadata": {
    "vscode": {
     "languageId": "plaintext"
    }
   },
   "outputs": [],
   "source": [
    "# Your Code Here"
   ]
  },
  {
   "cell_type": "markdown",
   "metadata": {},
   "source": [
    "### Write Your Own Convolution Function\n",
    "Convolve these two signals first with the mentioned functions, and then with your\n",
    "own code. Write a function that convolves two signals without using any external libraries' built-in convolution function (more general functions such as `np.dot` are permissable).\n",
    "\n",
    "`x = [1 5 7 9 3 3 3 9 8] ; y = [1 3]`\n",
    "\n",
    "The convolution should be done in the 'full' mode, meaning that all possible\n",
    "multiplications of these signals should occur. Remember, The definition of\n",
    "convolution is: $(x*y)[n] = \\sum_{n \\in \\mathbb{Z}}{x[m] y[m-n]}$. Additionaly,\n",
    "take note that Matlab flips the second vector that enters the `conv`\n",
    "function."
   ]
  },
  {
   "cell_type": "code",
   "execution_count": null,
   "metadata": {
    "vscode": {
     "languageId": "plaintext"
    }
   },
   "outputs": [],
   "source": [
    "# Your Code Here"
   ]
  },
  {
   "cell_type": "markdown",
   "metadata": {},
   "source": [
    "<a id=\"question-5\"></a>\n",
    "### Loading the Data\n",
    "\n",
    "Write a script to load the 10 EEG recordings located in the \"eeg_signals.pkl\" file. Once loaded, create visualizations for all of the recordings in both the time and frequency domains. Discuss any notable features you observe in these domains. How do these visualizations help in understanding the EEG recordings?"
   ]
  },
  {
   "cell_type": "code",
   "execution_count": null,
   "metadata": {
    "vscode": {
     "languageId": "plaintext"
    }
   },
   "outputs": [],
   "source": [
    "# Your code here"
   ]
  },
  {
   "cell_type": "markdown",
   "metadata": {},
   "source": [
    "** Your Explanation Here **"
   ]
  },
  {
   "cell_type": "markdown",
   "metadata": {},
   "source": [
    "### Creating ERP Template\n",
    "\n",
    "Write a script to average the 10 EEG recordings, aligning them based on the known timestamps of the Event-Related Potentials (ERP). This will create an idealized template of the ERP. Plot the resulting averaged ERP and discuss its characteristics. How does averaging help in identifying the features of the ERP? Discuss any potential issues that might arise from this method.\n"
   ]
  },
  {
   "cell_type": "code",
   "execution_count": null,
   "metadata": {
    "vscode": {
     "languageId": "plaintext"
    }
   },
   "outputs": [],
   "source": [
    "# Your code here"
   ]
  },
  {
   "cell_type": "markdown",
   "metadata": {},
   "source": [
    "** Your Explanation Here **"
   ]
  },
  {
   "cell_type": "markdown",
   "metadata": {},
   "source": [
    "<a id=\"question-8\"></a>\n",
    "### Matched Filter Convolution\n",
    "\n",
    "Use the ERP template created in the previous question to perform a matched filter convolution with the new EEG recording (the one where the ERP location is unknown). Write a script that implements this convolution and identify where in the recording the ERP is most likely to occur. Provide a plot showing the convolution output and indicate the location of the ERP. Discuss how the matched filter approach helps in detecting the ERP and any limitations or challenges of this method.\n",
    "\n",
    "**Use your convolution function from the previous steps**"
   ]
  },
  {
   "cell_type": "code",
   "execution_count": null,
   "metadata": {
    "vscode": {
     "languageId": "plaintext"
    }
   },
   "outputs": [],
   "source": [
    "# Your code here"
   ]
  },
  {
   "cell_type": "markdown",
   "metadata": {},
   "source": [
    "** Your Explanation Here **"
   ]
  },
  {
   "cell_type": "markdown",
   "metadata": {},
   "source": [
    "## Part 2: Poisson Spike Trains"
   ]
  },
  {
   "cell_type": "markdown",
   "metadata": {},
   "source": [
    "In this question we'll create and work with a spike train. The idea is to create a set of functions that can be used for your spike train analysis pipeline. These function should be reusable. The functions or modules you should define are:\n",
    "\n",
    "- `readPoiSpikes`\n",
    "- `generatePoiSpikes`\n",
    "- `calcFF`\n",
    "- `calcCV`\n",
    "- `alcRate`\n",
    "\n",
    "In this week's directory in the GitRepo,  there are two spiketrain datasets named `rawSpikes1.mat` and `rawSpikes2.mat`. They both should be placed into 1 ms bins. The spike times there are in milliseconds.\n",
    "\n",
    "**Write each function inside a jupyter code cell or python file. Upload a PDF to your gitrepo of the outputs of each of your functions for both the provided spike trains and the one you generate.\n",
    "\n",
    "Use the following parameters to test out your code:\n",
    "\n",
    "```python\n",
    "r = 94 #spikes per second\n",
    "Fs = 1e3 #Sampling frequency\n",
    "totalTime = 30 #seconds\n",
    "dt = 0.001 #seconds\n",
    "binSize = 0.01 #seconds\n",
    "```"
   ]
  },
  {
   "cell_type": "markdown",
   "metadata": {},
   "source": [
    "#### Load Data"
   ]
  },
  {
   "cell_type": "markdown",
   "metadata": {},
   "source": [
    "Write a function that loads a dataset in the format of the spike train files in this gitrepo and outputs it as a spike train with a set binwidth. The function has to be able to read both column and row vectors, and should be robust to empty datasets.\n",
    "\n",
    "```python\n",
    "def readPoiSpikes(fileName, Fs):\n",
    "\n",
    "    # your code here\n",
    "    \n",
    "    return spikeTrain\n",
    "```"
   ]
  },
  {
   "cell_type": "markdown",
   "metadata": {},
   "source": [
    "#### Generate Spike Trains"
   ]
  },
  {
   "cell_type": "markdown",
   "metadata": {},
   "source": [
    "Write a function that generates a spike train, according to the Poisson process model and the explanation that was given in the exercise, under the \"Poisson Generator\" section. This function should run only if we didn't load a spike train earlier (don't just comment out the previous function). Here we assume $r(t)=r$ and\n",
    "$P(\\text{spike occurred}) = r\\Delta t$ for short $\\Delta t$. That means that we're considering a homogeneous process in this case. Make sure all operations are done in a vectorized manner, no loops!\n",
    "\n",
    "```python\n",
    "def generatePoiSpikes(r, dt, totalSize):\n",
    "\n",
    "    # your code here\n",
    "\n",
    "    return spikeTrain\n",
    "```"
   ]
  },
  {
   "cell_type": "markdown",
   "metadata": {},
   "source": [
    "#### Fano Factor and Coefficient of Variation"
   ]
  },
  {
   "cell_type": "markdown",
   "metadata": {},
   "source": [
    "After we have a spike train at hand, we want to check whether the spikes are indeed Poisson-distributed. The two ways to check it were discussed in class: the Fano Factor and Coefficient of Variation. Write two functions that check these parameters for the spike trains.\n",
    "\n",
    "Calculate the CV and FF of the two given spike trains and the one you generated. Consider carefully how to calculate the FF of a **single** spike train.\n",
    "\n",
    "```python\n",
    "def calcCV(spikeTrain):\n",
    "\n",
    "    # your code here\n",
    "    \n",
    "    return CV\n",
    "```\n",
    "\n",
    "\n",
    "```python\n",
    "def calcFF(spikeTrain):\n",
    "\n",
    "    # your code here\n",
    "    \n",
    "    return FF\n",
    "```"
   ]
  },
  {
   "cell_type": "markdown",
   "metadata": {},
   "source": [
    "#### Rate of fire"
   ]
  },
  {
   "cell_type": "markdown",
   "metadata": {},
   "source": [
    "Lastly we'll check the rate of fire of our neurons. The function should receive a spike train and length of the window in which it should calculate the rate. Length = 0 means that it should just return the average rate of fire of the whole train. A different window requires you to calculate the firing rate in that window, and plot the results over time - $r(t)$. Make sure the function is robust for all types of inputs. Calculate the rate of fire for the two given spike trains and the one you generated\n",
    "\n",
    "```Python\n",
    "def calcRate(spikeTrain, window, dt):\n",
    "\n",
    "    # your code here\n",
    "    \n",
    "    return rateOfFire\n",
    "```"
   ]
  }
 ],
 "metadata": {
  "language_info": {
   "name": "python"
  }
 },
 "nbformat": 4,
 "nbformat_minor": 2
}
