{
 "cells": [
  {
   "cell_type": "markdown",
   "metadata": {},
   "source": [
    "# Homework Assignment #1\n",
    "\n",
    "### Due Date: Thursday, December 26, by Midnight\n",
    "\n",
    "### Instructions\n",
    "For each question, show all your work and explain each step where possible. This assignment covers calculus, linear algebra, and probability theory. Some questions may require combining concepts from multiple sections, so ensure you review all material thoroughly. Good luck!\n",
    "\n",
    "**Note:** For all probability questions, use exact values when possible, and round your final answers to four decimal places if needed. For calculus and linear algebra questions, include clear explanations for each step of your work."
   ]
  },
  {
   "cell_type": "markdown",
   "metadata": {},
   "source": [
    "## Part I: Calculus (Derivatives and Integrals)"
   ]
  },
  {
   "cell_type": "markdown",
   "metadata": {},
   "source": [
    "### Question 1\n",
    "Let $ f(x) = x^4 - 8x^3 + 16x^2 - 5 $. \n",
    "1. Find $ f'(x) $, the first derivative of $ f(x) $.\n",
    "2. Determine all critical points of $ f(x) $ by solving $ f'(x) = 0 $.\n",
    "3. Using the second derivative test, classify each critical point as a local maximum, minimum, or point of inflection."
   ]
  },
  {
   "cell_type": "markdown",
   "metadata": {},
   "source": [
    "-- Your Answer Here --"
   ]
  },
  {
   "cell_type": "markdown",
   "metadata": {},
   "source": [
    "### Question 2\n",
    "Evaluate the following indefinite integral:\n",
    "\n",
    "$$\n",
    "\\int \\frac{3x^4 + 2x^2 - 4}{x^3} \\, dx\n",
    "$$"
   ]
  },
  {
   "cell_type": "markdown",
   "metadata": {},
   "source": [
    "-- Your Answer Here --"
   ]
  },
  {
   "cell_type": "markdown",
   "metadata": {},
   "source": [
    "### Question 3\n",
    "Compute the definite integral:\n",
    "\n",
    "$$\n",
    "\\int_{-1}^{2} (2x^3 + 3x - 1) \\, dx\n",
    "$$\n",
    "\n",
    "Then interpret the result geometrically, explaining whether it represents a positive or negative area and why."
   ]
  },
  {
   "cell_type": "markdown",
   "metadata": {},
   "source": [
    "-- Your Answer Here --"
   ]
  },
  {
   "cell_type": "markdown",
   "metadata": {},
   "source": [
    "### Question 4\n",
    "Let $ g(x) = x^2 \\ln(x) $.\n",
    "1. Find $ g'(x) $ using both the product rule and chain rule.\n",
    "2. Determine the integral $ \\int x^2 \\ln(x) \\, dx $ using integration by parts."
   ]
  },
  {
   "cell_type": "markdown",
   "metadata": {},
   "source": [
    "-- Your Answer Here --"
   ]
  },
  {
   "cell_type": "markdown",
   "metadata": {},
   "source": [
    "### Question 5\n",
    "Suppose $ h(x) = \\cos(2x) e^{-x} $.\n",
    "1. Calculate $ h'(x) $.\n",
    "2. Compute $ \\int \\cos(2x) e^{-x} \\, dx $ using integration by parts twice."
   ]
  },
  {
   "cell_type": "markdown",
   "metadata": {},
   "source": [
    "-- Your Answer Here --"
   ]
  },
  {
   "cell_type": "markdown",
   "metadata": {},
   "source": [
    "## Part II: Linear Algebra"
   ]
  },
  {
   "cell_type": "markdown",
   "metadata": {},
   "source": [
    "### Question 6\n",
    "Consider the following system of linear equations:\n",
    "$$\n",
    "3x - y + 2z = 7\n",
    "$$\n",
    "$$\n",
    "x + 4y - z = -2\n",
    "$$\n",
    "$$\n",
    "2x + y + 3z = 8\n",
    "$$\n",
    "1. Write the system in matrix form $ AX = B $.\n",
    "2. Find the determinant of $ A $.\n",
    "3. If the determinant is non-zero, solve the system using Cramer's Rule."
   ]
  },
  {
   "cell_type": "markdown",
   "metadata": {},
   "source": [
    "-- Your Answer Here --"
   ]
  },
  {
   "cell_type": "markdown",
   "metadata": {},
   "source": [
    "### Question 7\n",
    "Given the matrices:\n",
    "\n",
    "$$\n",
    "A = \\begin{pmatrix} 3 & -2 \\\\ 1 & 4 \\end{pmatrix} \\quad \\text{and} \\quad B = \\begin{pmatrix} 2 & 5 \\\\ -3 & 1 \\end{pmatrix}\n",
    "$$\n",
    "\n",
    "1. Calculate $ 2A - 3B $.\n",
    "2. Find the product $ AB $ and $ BA $.\n",
    "3. Determine if matrix $ A $ is invertible. If so, find $ A^{-1} $."
   ]
  },
  {
   "cell_type": "markdown",
   "metadata": {},
   "source": [
    "-- Your Answer Here --"
   ]
  },
  {
   "cell_type": "markdown",
   "metadata": {},
   "source": [
    "### Question 8\n",
    "Let $ C $ be a $ 3 \\times 3 $ matrix:\n",
    "\n",
    "$$\n",
    "C = \\begin{pmatrix} 2 & -1 & 4 \\\\ -1 & 3 & 0 \\\\ 4 & 0 & 5 \\end{pmatrix}\n",
    "$$\n",
    "\n",
    "1. Determine if $ C $ is symmetric.\n",
    "2. Find all diagonal elements and calculate their sum (the trace of $ C $).\n",
    "3. Calculate $ C^2 $ (the matrix product of $ C $ with itself)."
   ]
  },
  {
   "cell_type": "markdown",
   "metadata": {},
   "source": [
    "-- Your Answer Here --"
   ]
  },
  {
   "cell_type": "markdown",
   "metadata": {},
   "source": [
    "### Question 9\n",
    "Consider the orthogonal matrix $ Q $:\n",
    "\n",
    "$$\n",
    "Q = \\begin{pmatrix} \\cos θ & -\\sin θ \\\\ \\sin θ & \\cos θ \\end{pmatrix}\n",
    "$$\n",
    "\n",
    "1. Verify that $ Q $ is orthogonal by showing $ QQ^T = I $.\n",
    "2. Find the determinant of $ Q $.\n",
    "3. Explain the geometric interpretation of this matrix as a transformation."
   ]
  },
  {
   "cell_type": "markdown",
   "metadata": {},
   "source": [
    "-- Your Answer Here --"
   ]
  },
  {
   "cell_type": "markdown",
   "metadata": {},
   "source": [
    "### Question 10\n",
    "Let $ E $ be a $ 2 \\times 2 $ matrix defined as:\n",
    "\n",
    "$$\n",
    "E = \\begin{pmatrix} 4 & -1 \\\\ 2 & 1 \\end{pmatrix}\n",
    "$$\n",
    "\n",
    "1. Find the characteristic equation and solve for the eigenvalues.\n",
    "2. For each eigenvalue, find the corresponding eigenvector.\n",
    "3. If possible, write $ E $ as $ E = PDP^{-1} $ where $ D $ is a diagonal matrix."
   ]
  },
  {
   "cell_type": "markdown",
   "metadata": {},
   "source": [
    "-- Your Answer Here --"
   ]
  },
  {
   "cell_type": "markdown",
   "metadata": {},
   "source": [
    "## Part III: Probability Theory"
   ]
  },
  {
   "cell_type": "markdown",
   "metadata": {},
   "source": [
    "### Question 11\n",
    "A manufacturing process produces chips with a 25% defect rate. A quality control system has a 90% detection rate for defective chips and a 85% accuracy rate for non-defective chips.\n",
    "1. Define all relevant events and their probabilities.\n",
    "2. Using Bayes' theorem, calculate the probability that a chip is actually defective given that the system identifies it as defective."
   ]
  },
  {
   "cell_type": "markdown",
   "metadata": {},
   "source": [
    "-- Your Answer Here --"
   ]
  },
  {
   "cell_type": "markdown",
   "metadata": {},
   "source": [
    "### Question 12\n",
    "A fair coin is tossed 15 times. Let $ X $ be the random variable representing the number of heads.\n",
    "1. Identify the probability distribution of $ X $.\n",
    "2. Calculate the probability of getting exactly 8 heads.\n",
    "3. Find the probability of getting at least 10 heads."
   ]
  },
  {
   "cell_type": "markdown",
   "metadata": {},
   "source": [
    "-- Your Answer Here --"
   ]
  },
  {
   "cell_type": "markdown",
   "metadata": {},
   "source": [
    "### Question 13\n",
    "Emergency calls at a hospital arrive at an average rate of 4 per hour. Assume the number of calls follows a Poisson distribution.\n",
    "1. Calculate the probability of receiving exactly 6 calls in one hour.\n",
    "2. Find the probability of receiving 2 or fewer calls in one hour.\n",
    "3. What is the probability of receiving at least 3 calls in a 30-minute period?"
   ]
  },
  {
   "cell_type": "markdown",
   "metadata": {},
   "source": [
    "-- Your Answer Here --"
   ]
  },
  {
   "cell_type": "markdown",
   "metadata": {},
   "source": [
    "### Question 14\n",
    "The weight of packages delivered by a shipping company follows a normal distribution with mean $ \\mu = 25 $ kg and standard deviation $ \\sigma = 3 $ kg.\n",
    "1. What is the probability that a randomly selected package weighs between 22 and 28 kg?\n",
    "2. Find the weight $ w $ such that 95% of packages weigh less than $ w $ kg.\n",
    "3. What percentage of packages weigh more than 30 kg?"
   ]
  },
  {
   "cell_type": "markdown",
   "metadata": {},
   "source": [
    "-- Your Answer Here --"
   ]
  },
  {
   "cell_type": "markdown",
   "metadata": {},
   "source": [
    "### Question 15\n",
    "A security system has three independent sensors. Each sensor has a 95% probability of detecting an intruder when present.\n",
    "1. What is the probability that all three sensors detect an intruder?\n",
    "2. What is the probability that at least two sensors detect an intruder?\n",
    "3. If the system requires at least two sensors to trigger for an alarm, what is the overall reliability of the system?"
   ]
  },
  {
   "cell_type": "markdown",
   "metadata": {},
   "source": [
    "-- Your Answer Here --"
   ]
  }
 ],
 "metadata": {
  "language_info": {
   "name": "python"
  }
 },
 "nbformat": 4,
 "nbformat_minor": 2
}
