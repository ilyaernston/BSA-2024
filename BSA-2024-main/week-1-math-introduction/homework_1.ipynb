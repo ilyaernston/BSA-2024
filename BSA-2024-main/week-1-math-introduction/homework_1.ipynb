{
 "cells": [
  {
   "cell_type": "markdown",
   "metadata": {},
   "source": [
    "# Homework Assignment #1\n",
    "\n",
    "### Due Date: Tuesday, November 26, by Midnight\n",
    "\n",
    "### Instructions\n",
    "For each question, show all your work and explain each step where possible. This assignment covers calculus, linear algebra, and probability theory. Some questions may require combining concepts from multiple sections, so ensure you review all material thoroughly. Good luck!\n",
    "\n",
    "**Note:** For all probability questions, use exact values when possible, and round your final answers to four decimal places if needed. For calculus and linear algebra questions, include clear explanations for each step of your work."
   ]
  },
  {
   "cell_type": "markdown",
   "metadata": {},
   "source": [
    "## Part I: Calculus (Derivatives and Integrals)"
   ]
  },
  {
   "cell_type": "markdown",
   "metadata": {},
   "source": [
    "### Question 1\n",
    "Let $ f(x) = x^3 - 6x^2 + 9x - 4 $. \n",
    "1. Find $ f'(x) $, the first derivative of $ f(x) $.\n",
    "2. Determine the critical points of $ f(x) $ by solving $ f'(x) = 0 $.\n",
    "3. Using the second derivative test, classify each critical point as a local maximum, minimum, or point of inflection."
   ]
  },
  {
   "cell_type": "markdown",
   "metadata": {},
   "source": [
    "-- Your Answer Here --"
   ]
  },
  {
   "cell_type": "markdown",
   "metadata": {},
   "source": [
    "### Question 2\n",
    "Evaluate the following indefinite integral:\n",
    "\n",
    "$$\n",
    "\\int \\frac{2x^3 - 5x + 3}{x^2} \\, dx\n",
    "$$"
   ]
  },
  {
   "cell_type": "markdown",
   "metadata": {},
   "source": [
    "-- Your Answer Here --"
   ]
  },
  {
   "cell_type": "markdown",
   "metadata": {},
   "source": [
    "### Question 3\n",
    "Compute the definite integral:\n",
    "\n",
    "$$\n",
    "\\int_0^3 (3x^2 - 4x + 2) \\, dx\n",
    "$$\n",
    "\n",
    "Then interpret the result as the area under the curve of $ f(x) = 3x^2 - 4x + 2 $ over the interval $ [0, 3] $."
   ]
  },
  {
   "cell_type": "markdown",
   "metadata": {},
   "source": [
    "-- Your Answer Here --"
   ]
  },
  {
   "cell_type": "markdown",
   "metadata": {},
   "source": [
    "### Question 4\n",
    "Let $ g(x) = x e^x $.\n",
    "1. Find $ g'(x) $ using the product rule.\n",
    "2. Determine the integral $ \\int x e^x \\, dx $ by using integration by parts."
   ]
  },
  {
   "cell_type": "markdown",
   "metadata": {},
   "source": [
    "-- Your Answer Here --"
   ]
  },
  {
   "cell_type": "markdown",
   "metadata": {},
   "source": [
    "### Question 5\n",
    "Suppose $ h(x) = \\sin(x) e^{3x} $.\n",
    "1. Calculate $ h'(x) $.\n",
    "2. Compute $ \\int \\sin(x) e^{3x} \\, dx $ using integration by parts twice."
   ]
  },
  {
   "cell_type": "markdown",
   "metadata": {},
   "source": [
    "-- Your Answer Here --"
   ]
  },
  {
   "cell_type": "markdown",
   "metadata": {},
   "source": [
    "## Part II: Linear Algebra"
   ]
  },
  {
   "cell_type": "markdown",
   "metadata": {},
   "source": [
    "### Question 6\n",
    "Consider the following system of linear equations:\n",
    "$$\n",
    "2x + 3y - z = 4\n",
    "$$\n",
    "$$\n",
    "x - 2y + 4z = -3\n",
    "$$\n",
    "$$\n",
    "3x + y + 2z = 5\n",
    "$$\n",
    "1. Write the system in matrix form $ AX = B $.\n",
    "2. Find the determinant of $ A $.\n",
    "3. If the determinant is non-zero, use the inverse of $ A $ to solve for $ X $."
   ]
  },
  {
   "cell_type": "markdown",
   "metadata": {},
   "source": [
    "-- Your Answer Here --"
   ]
  },
  {
   "cell_type": "markdown",
   "metadata": {},
   "source": [
    "### Question 7\n",
    "Given the matrices:\n",
    "\n",
    "$$\n",
    "A = \\begin{pmatrix} 2 & -1 \\\\ 0 & 3 \\end{pmatrix} \\quad \\text{and} \\quad B = \\begin{pmatrix} 4 & 1 \\\\ -2 & 5 \\end{pmatrix}\n",
    "$$\n",
    "\n",
    "1. Compute $ A + B $ and $ A - B $.\n",
    "2. Find the product $ AB $ and $ BA $.\n",
    "3. Is $ AB = BA $? Justify your answer."
   ]
  },
  {
   "cell_type": "markdown",
   "metadata": {},
   "source": [
    "-- Your Answer Here --"
   ]
  },
  {
   "cell_type": "markdown",
   "metadata": {},
   "source": [
    "### Question 8\n",
    "Let $ C $ be a $ 3 \\times 3 $ matrix:\n",
    "\n",
    "$$\n",
    "C = \\begin{pmatrix} 1 & 2 & 3 \\\\ 0 & -1 & 4 \\\\ 2 & 1 & 0 \\end{pmatrix}\n",
    "$$\n",
    "\n",
    "1. Find the transpose of $ C $, denoted $ C^T $.\n",
    "2. Calculate $ C + C^T $.\n",
    "3. Determine if $ C + C^T $ is symmetric."
   ]
  },
  {
   "cell_type": "markdown",
   "metadata": {},
   "source": [
    "-- Your Answer Here --"
   ]
  },
  {
   "cell_type": "markdown",
   "metadata": {},
   "source": [
    "### Question 9\n",
    "A matrix $ D $ is defined as:\n",
    "\n",
    "$$\n",
    "D = \\begin{pmatrix} a & 0 & 0 \\\\ 0 & b & 0 \\\\ 0 & 0 & c \\end{pmatrix}\n",
    "$$\n",
    "\n",
    "1. Describe the type of matrix $ D $ and explain its properties.\n",
    "2. If $ D $ is a diagonal matrix, find its determinant.\n",
    "3. Explain the significance of a diagonal matrix in terms of linear transformations."
   ]
  },
  {
   "cell_type": "markdown",
   "metadata": {},
   "source": [
    "-- Your Answer Here --"
   ]
  },
  {
   "cell_type": "markdown",
   "metadata": {},
   "source": [
    "### Question 10\n",
    "Let $ E $ be a $ 2 \\times 2 $ matrix defined as:\n",
    "\n",
    "$$\n",
    "E = \\begin{pmatrix} 3 & 4 \\\\ 2 & 1 \\end{pmatrix}\n",
    "$$\n",
    "\n",
    "1. Find the eigenvalues of $ E $.\n",
    "2. For each eigenvalue, find the corresponding eigenvector.\n",
    "3. Explain how the eigenvalues and eigenvectors can be used to understand transformations represented by $ E $."
   ]
  },
  {
   "cell_type": "markdown",
   "metadata": {},
   "source": [
    "-- Your Answer Here --"
   ]
  },
  {
   "cell_type": "markdown",
   "metadata": {},
   "source": [
    "## Part III: Probability Theory"
   ]
  },
  {
   "cell_type": "markdown",
   "metadata": {},
   "source": [
    "### Question 11\n",
    "In a population, 30% of individuals have a specific genetic marker. A test for this marker has a 95% accuracy rate for individuals with the marker and an 80% accuracy rate for those without the marker.\n",
    "1. Define the events and write out the given probabilities.\n",
    "2. Using Bayes' theorem, calculate the probability that an individual actually has the marker given a positive test result."
   ]
  },
  {
   "cell_type": "markdown",
   "metadata": {},
   "source": [
    "-- Your Answer Here --"
   ]
  },
  {
   "cell_type": "markdown",
   "metadata": {},
   "source": [
    "### Question 12\n",
    "A die is rolled 12 times. Let $ X $ be the random variable representing the number of times a \"5\" appears.\n",
    "1. What type of probability distribution does $ X $ follow?\n",
    "2. Calculate the probability that \"5\" appears exactly 4 times.\n",
    "3. Determine the expected number of times \"5\" will appear in 12 rolls."
   ]
  },
  {
   "cell_type": "markdown",
   "metadata": {},
   "source": [
    "-- Your Answer Here --"
   ]
  },
  {
   "cell_type": "markdown",
   "metadata": {},
   "source": [
    "### Question 13\n",
    "A bookstore averages 3 customer visits per hour. Assume the number of customer visits per hour follows a Poisson distribution.\n",
    "1. Calculate the probability that exactly 5 customers visit in a given hour.\n",
    "2. Find the probability that at least 1 customer visits in a given hour."
   ]
  },
  {
   "cell_type": "markdown",
   "metadata": {},
   "source": [
    "-- Your Answer Here --"
   ]
  },
  {
   "cell_type": "markdown",
   "metadata": {},
   "source": [
    "### Question 14\n",
    "Assume a continuous random variable $ Y $ follows a normal distribution with mean $ \\mu = 50 $ and standard deviation $ \\sigma = 5 $.\n",
    "1. Calculate the probability that $ Y $ takes a value between 45 and 55.\n",
    "2. Find the value $ y $ such that $ P(Y \\leq y) = 0.85 $."
   ]
  },
  {
   "cell_type": "markdown",
   "metadata": {},
   "source": [
    "-- Your Answer Here --"
   ]
  },
  {
   "cell_type": "markdown",
   "metadata": {},
   "source": [
    "### Question 15\n",
    "A company's product quality control process involves two independent tests. Each test has a 98% probability of detecting a defect if it is present.\n",
    "1. What is the probability that both tests detect a defect when it is present?\n",
    "2. What is the probability that at least one test detects a defect when it is present?\n",
    "3. If the company requires both tests to detect a defect before rejecting a product, calculate the probability that a defective product will be rejected."
   ]
  },
  {
   "cell_type": "markdown",
   "metadata": {},
   "source": [
    "-- Your Answer Here --"
   ]
  }
 ],
 "metadata": {
  "language_info": {
   "name": "python"
  }
 },
 "nbformat": 4,
 "nbformat_minor": 2
}
