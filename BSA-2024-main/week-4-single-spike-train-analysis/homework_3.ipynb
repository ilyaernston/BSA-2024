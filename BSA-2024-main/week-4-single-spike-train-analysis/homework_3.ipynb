{
 "cells": [
  {
   "cell_type": "markdown",
   "metadata": {},
   "source": [
    "# Homework #3\n",
    "\n",
    "## Due Date: Tuesday, December 31, 23:59"
   ]
  },
  {
   "cell_type": "markdown",
   "metadata": {},
   "source": [
    "### Part 1: Neuronal Spike Train Analysis Using Poisson Processes\n",
    "\n",
    "   A neuroscientist is studying the firing patterns of a certain type of neuron in the brain. The average firing rate of these neurons is found to be 5 spikes per second. Assuming that the spike train of these neurons can be modeled as a Poisson process:\n",
    "\n",
    "   a) What is the probability that the neuron fires exactly 10 times in a 2-second interval?\n",
    "\n",
    "   b) Calculate the probability that the neuron fires at least once within a 0.1-second interval.\n",
    "\n",
    "   c) What is the expected value of spikes for a 2 second interval?"
   ]
  },
  {
   "cell_type": "markdown",
   "metadata": {},
   "source": [
    "-- your answer here --"
   ]
  },
  {
   "cell_type": "markdown",
   "metadata": {},
   "source": [
    "### Part 2: Programming a Poisson Process \n",
    "\n",
    "#### Notes:\n",
    "\n",
    "- For all programming tasks, ensure that your code is well-commented to explain your logic and approach.\n",
    "- Make sure to handle edge cases, such as negative values of $\\lambda$ or $k$, appropriately in your functions.\n",
    "- In Question 2, if you're unfamiliar with plotting libraries, focus on generating the probabilities and understanding the distribution's shape through the output values before attempting to plot.\n",
    "\n",
    "#### Question 1: Implementing the Poisson Distribution\n",
    "\n",
    "**Objective**: Write a program to manually calculate the probability of observing a given number of events $k$ in a fixed interval, given the average rate of occurrences $\\lambda$, using the Poisson formula. You are not allowed to use any external libraries that directly compute Poisson probabilities.\n",
    "\n",
    "**Instructions**:\n",
    "1. Your program should define a function `poisson_probability(lambda, k)` that takes the average rate $\\lambda$ and the desired number of occurrences $k$ as inputs.\n",
    "2. The function should use the Poisson formula:\n",
    "   $\n",
    "   P(k; \\lambda) = \\frac{\\lambda^k e^{-\\lambda}}{k!}\n",
    "   $\n",
    "3. Calculate $k!$ (factorial of $k$) using a loop or recursive function.\n",
    "4. Return the probability of observing exactly $k$ events.\n",
    "5. Test your function by calculating the probability of observing 3 events for $\\lambda = 2.5$."
   ]
  },
  {
   "cell_type": "code",
   "execution_count": null,
   "metadata": {
    "vscode": {
     "languageId": "plaintext"
    }
   },
   "outputs": [],
   "source": [
    "# your code here"
   ]
  },
  {
   "cell_type": "markdown",
   "metadata": {},
   "source": [
    "### Question 2: Drawing a Poisson Distribution\n",
    "\n",
    "**Objective**: Create a function to simulate and plot the Poisson distribution for a given $\\lambda$ over a range of $k$ values (e.g., from 0 to 20). You may use basic plotting libraries (like matplotlib in Python) but should calculate the Poisson probabilities manually using your function from Question 1.\n",
    "\n",
    "**Instructions**:\n",
    "1. Define a function `plot_poisson_distribution(lambda, k_range)` where `lambda` is the average rate of events, and `k_range` is the maximum value of $k$ you want to plot.\n",
    "2. Use your `poisson_probability` function to compute the probabilities for each $k$ from 0 to `k_range`.\n",
    "3. Store the probabilities in a list or array.\n",
    "4. Plot $k$ on the x-axis and the corresponding probabilities on the y-axis. Make sure to label your axes appropriately.\n",
    "5. Test your plotting function with $\\lambda = 4$ and `k_range = 15`."
   ]
  },
  {
   "cell_type": "code",
   "execution_count": null,
   "metadata": {
    "vscode": {
     "languageId": "plaintext"
    }
   },
   "outputs": [],
   "source": [
    "# your code here"
   ]
  },
  {
   "cell_type": "markdown",
   "metadata": {},
   "source": [
    "### Question 3: Calculating the Cumulative Probability\n",
    "\n",
    "**Objective**: Write a program to calculate the cumulative probability of observing up to $n$ events for a given $\\lambda$, without using any external cumulative distribution function.\n",
    "\n",
    "**Instructions**:\n",
    "1. Your program should define a function `cumulative_poisson_probability(lambda, n)` that computes the cumulative probability of observing up to $n$ events.\n",
    "2. The function should sum the probabilities of observing 0 up to $n$ events, using your `poisson_probability` function from Question 1.\n",
    "3. Return the cumulative probability.\n",
    "4. Test your function by calculating the cumulative probability of observing up to 5 events for $\\lambda = 3$."
   ]
  },
  {
   "cell_type": "code",
   "execution_count": null,
   "metadata": {
    "vscode": {
     "languageId": "plaintext"
    }
   },
   "outputs": [],
   "source": [
    "# your code here"
   ]
  },
  {
   "cell_type": "markdown",
   "metadata": {},
   "source": [
    "#### 1.1 \n",
    "Use the Poisson process generator from last week to create a spike train with $r_0=30$ spikes per second over 60 seconds. Display the result.\n",
    "\n",
    "#### 1.2\n",
    "\n",
    "Now add a refractory period parameter to the function, and set it to 1 millisecond. The simulation of\n",
    "the refractory period should follow these guidelines: After each spike set the\n",
    "firing rate to 0. Then allow it to recover linearly back to $r_0$ with the recovery rate:\n",
    "\n",
    "$\n",
    "r(t) = r_0\\frac{t-t_{spike}}{5}\n",
    "$\n",
    "\n",
    "where $t_{spike}$ is the time of last spike, and both\n",
    "$t$ and $t_{spike}$ are timed in milliseconds. Remember that $r(t)$ shouldn't\n",
    "recover above the initial firing rate $r_0$. Plot the resulting spike train\n",
    "overlaid with $r(t)$.\n",
    "\n",
    "#### 1.3\n",
    "Plot the following quantities for your newly-formed spike train:\n",
    "\n",
    "##### 1.3.1\n",
    "Time interval histogram - TIH.\n",
    "\n",
    "##### 1.3.2\n",
    "Survivor function.\n",
    "\n",
    "##### 1.3.3\n",
    "Hazard function.\n",
    "\n",
    "#### 3.1\n",
    "Using the spike generator from the previous part, create a function that can be\n",
    "used as $r(t)$ of a **bursty** neuron. Create the spike train and plot it.\n",
    "Don't drop the refractory period part.\n",
    "\n",
    "#### 3.2\n",
    "Adapt your homemade convolution function and refactor it into a correlation function. Auto-correlate the spike train with itself using this function.\n",
    "What does the amplitude of the center peak represent? Normalize the correlation by it.\n",
    "\n",
    "#### 3.3\n",
    "Create two oscillating neurons with the same method as the previous question -\n",
    "first generate two fitting $r(t)$ and then randomize the spike train\n",
    "accordingly.\n",
    "Compute the cross-correlation of the neurons using your function. Explain the result - both the time lag ($x$-axis data) of\n",
    "the peaks and their amplitude ($y$-axis)."
   ]
  }
 ],
 "metadata": {
  "language_info": {
   "name": "python"
  }
 },
 "nbformat": 4,
 "nbformat_minor": 2
}
