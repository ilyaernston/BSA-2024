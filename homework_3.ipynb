{
 "cells": [
  {
   "cell_type": "markdown",
   "metadata": {},
   "source": [
    "# Homework #3\n",
    "\n",
    "## Due Date: Tuesday, January 7, 23:59"
   ]
  },
  {
   "cell_type": "markdown",
   "metadata": {},
   "source": [
    "### Part 1: Neuronal Spike Train Analysis Using Poisson Processes\n",
    "\n",
    "   A neuroscientist is studying the firing patterns of a certain type of neuron in the brain. The average firing rate of these neurons is found to be 5 spikes per second. Assuming that the spike train of these neurons can be modeled as a Poisson process:\n",
    "\n",
    "   a) What is the probability that the neuron fires exactly 10 times in a 2-second interval?\n",
    "\n",
    "   b) Calculate the probability that the neuron fires at least once within a 0.1-second interval.\n",
    "\n",
    "   c) What is the expected value of spikes for a 2 second interval?"
   ]
  },
  {
   "cell_type": "markdown",
   "metadata": {},
   "source": [
    "-- your answer here --"
   ]
  },
  {
   "cell_type": "markdown",
   "metadata": {},
   "source": [
    "### Part 2: Programming a Poisson Process \n",
    "\n",
    "#### Notes:\n",
    "\n",
    "- For all programming tasks, ensure that your code is well-commented to explain your logic and approach.\n",
    "- Make sure to handle edge cases, such as negative values of $\\lambda$ or $k$, appropriately in your functions.\n",
    "- In Question 2, if you're unfamiliar with plotting libraries, focus on generating the probabilities and understanding the distribution's shape through the output values before attempting to plot.\n",
    "\n",
    "#### Question 1: Implementing the Poisson Distribution\n",
    "\n",
    "**Objective**: Write a program to manually calculate the probability of observing a given number of events $k$ in a fixed interval, given the average rate of occurrences $\\lambda$, using the Poisson formula. You are not allowed to use any external libraries that directly compute Poisson probabilities.\n",
    "\n",
    "**Instructions**:\n",
    "1. Your program should define a function `poisson_probability(lambda, k)` that takes the average rate $\\lambda$ and the desired number of occurrences $k$ as inputs.\n",
    "2. The function should use the Poisson formula:\n",
    "   $\n",
    "   P(k; \\lambda) = \\frac{\\lambda^k e^{-\\lambda}}{k!}\n",
    "   $\n",
    "3. Calculate $k!$ (factorial of $k$) using a loop or recursive function.\n",
    "4. Return the probability of observing exactly $k$ events.\n",
    "5. Test your function by calculating the probability of observing 3 events for $\\lambda = 2.5$."
   ]
  },
  {
   "cell_type": "code",
   "execution_count": null,
   "metadata": {
    "vscode": {
     "languageId": "plaintext"
    }
   },
   "outputs": [],
   "source": [
    "# your code here"
   ]
  },
  {
   "cell_type": "markdown",
   "metadata": {},
   "source": [
    "### Question 2: Drawing a Poisson Distribution\n",
    "\n",
    "**Objective**: Create a function to simulate and plot the Poisson distribution for a given $\\lambda$ over a range of $k$ values (e.g., from 0 to 20). You may use basic plotting libraries (like matplotlib in Python) but should calculate the Poisson probabilities manually using your function from Question 1.\n",
    "\n",
    "**Instructions**:\n",
    "1. Define a function `plot_poisson_distribution(lambda, k_range)` where `lambda` is the average rate of events, and `k_range` is the maximum value of $k$ you want to plot.\n",
    "2. Use your `poisson_probability` function to compute the probabilities for each $k$ from 0 to `k_range`.\n",
    "3. Store the probabilities in a list or array.\n",
    "4. Plot $k$ on the x-axis and the corresponding probabilities on the y-axis. Make sure to label your axes appropriately.\n",
    "5. Test your plotting function with $\\lambda = 4$ and `k_range = 15`."
   ]
  },
  {
   "cell_type": "code",
   "execution_count": null,
   "metadata": {
    "vscode": {
     "languageId": "plaintext"
    }
   },
   "outputs": [],
   "source": [
    "# your code here"
   ]
  },
  {
   "cell_type": "markdown",
   "metadata": {},
   "source": [
    "### Question 3: Calculating the Cumulative Probability\n",
    "\n",
    "**Objective**: Write a program to calculate the cumulative probability of observing up to $n$ events for a given $\\lambda$, without using any external cumulative distribution function.\n",
    "\n",
    "**Instructions**:\n",
    "1. Your program should define a function `cumulative_poisson_probability(lambda, n)` that computes the cumulative probability of observing up to $n$ events.\n",
    "2. The function should sum the probabilities of observing 0 up to $n$ events, using your `poisson_probability` function from Question 1.\n",
    "3. Return the cumulative probability.\n",
    "4. Test your function by calculating the cumulative probability of observing up to 5 events for $\\lambda = 3$."
   ]
  },
  {
   "cell_type": "code",
   "execution_count": null,
   "metadata": {
    "vscode": {
     "languageId": "plaintext"
    }
   },
   "outputs": [],
   "source": [
    "# your code here"
   ]
  },
  {
   "cell_type": "markdown",
   "metadata": {},
   "source": [
    "### Question 4: Generating and Analyzing Spike Trains\n",
    "\n",
    "**Objective**: Generate spike trains using a Poisson process and analyze their properties, incorporating a refractory period and exploring neuron burstiness and correlation.\n",
    "\n",
    "**Instructions**:\n",
    "\n",
    "#### 4.1: Generate a Poisson Spike Train\n",
    "1. Use the Poisson process generator from last week to create a spike train.\n",
    "2. Set the spike rate to $r_0 = 30$ spikes per second and simulate over 60 seconds.\n",
    "3. Display the resulting spike train.\n",
    "\n",
    "#### 4.2: Add a Refractory Period\n",
    "1. Modify the Poisson process generator to include a refractory period parameter, set to 1 millisecond.\n",
    "2. Simulate the refractory period as follows:\n",
    "   - After each spike, set the firing rate to 0.\n",
    "   - Allow the firing rate to recover linearly to $r_0$ with the recovery rate:\n",
    "     $$\n",
    "     r(t) = r_0\\frac{t-t_{spike}}{5}\n",
    "     $$\n",
    "     where $t_{spike}$ is the time of the last spike, and both $t$ and $t_{spike}$ are in milliseconds.\n",
    "   - Ensure $r(t)$ does not exceed the initial firing rate $r_0$.\n",
    "3. Plot the resulting spike train overlaid with $r(t)$.\n",
    "\n",
    "#### 4.3: Analyze the Spike Train\n",
    "1. Generate the following plots for the spike train:\n",
    "   - **1.3.1**: Time interval histogram (TIH).\n",
    "   - **1.3.2**: Survivor function.\n",
    "   - **1.3.3**: Hazard function."
   ]
  },
  {
   "cell_type": "code",
   "execution_count": null,
   "metadata": {
    "vscode": {
     "languageId": "plaintext"
    }
   },
   "outputs": [],
   "source": [
    "# your code here"
   ]
  },
  {
   "cell_type": "markdown",
   "metadata": {},
   "source": [
    "### Question 5: Exploring Neuronal Burstiness and Correlation\n",
    "\n",
    "**Objective**: Extend the spike generator to model bursty neurons and analyze correlations between oscillating neurons.\n",
    "\n",
    "#### 5.1: Simulate Bursty Neuron Activity\n",
    "1. Adapt the spike generator to model a **bursty** neuron.\n",
    "2. Ensure the refractory period mechanism remains intact.\n",
    "3. Plot the resulting spike train for the bursty neuron.\n",
    "\n",
    "#### 5.2: Auto-Correlation of Spike Train\n",
    "1. Refactor your homemade convolution function into a correlation function.\n",
    "2. Auto-correlate the spike train with itself using this function.\n",
    "3. Normalize the correlation by the amplitude of the center peak and interpret its meaning.\n",
    "\n",
    "#### 5.3: Cross-Correlation of Two Oscillating Neurons\n",
    "1. Generate two oscillating neurons by first defining their $r(t)$ and then randomizing the spike train accordingly.\n",
    "2. Compute the cross-correlation of the two neurons using the correlation function.\n",
    "3. Interpret the result:\n",
    "   - Explain the time lag (x-axis) of the peaks.\n",
    "   - Describe the amplitude (y-axis) of the peaks."
   ]
  },
  {
   "cell_type": "code",
   "execution_count": null,
   "metadata": {
    "vscode": {
     "languageId": "plaintext"
    }
   },
   "outputs": [],
   "source": [
    "# your code here"
   ]
  }
 ],
 "metadata": {
  "language_info": {
   "name": "python"
  }
 },
 "nbformat": 4,
 "nbformat_minor": 2
}
